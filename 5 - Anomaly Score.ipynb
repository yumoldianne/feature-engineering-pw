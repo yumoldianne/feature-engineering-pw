{
 "cells": [
  {
   "cell_type": "markdown",
   "id": "e5d0d4e0-dd69-40b3-8873-d177982d4b83",
   "metadata": {},
   "source": [
    "### Level 5 Variables Creation"
   ]
  },
  {
   "cell_type": "code",
   "execution_count": 1,
   "id": "2a65d885-2590-49f1-affd-0c23ebc0e59a",
   "metadata": {},
   "outputs": [],
   "source": [
    "import pandas as pd\n",
    "import numpy as np\n",
    "from sklearn.ensemble import IsolationForest\n",
    "from sklearn.preprocessing import StandardScaler\n",
    "from sklearn.metrics import silhouette_score\n",
    "import seaborn as sns\n",
    "import matplotlib.pyplot as plt\n",
    "from scipy.sparse.linalg import svds\n",
    "import networkx as nx\n",
    "from sklearn.metrics.pairwise import cosine_similarity\n",
    "from sklearn.model_selection import train_test_split\n",
    "from sklearn.ensemble import RandomForestClassifier\n",
    "from sklearn.metrics import classification_report"
   ]
  },
  {
   "cell_type": "code",
   "execution_count": 3,
   "id": "38977a2c-e9b5-4e29-9924-51667c2ce515",
   "metadata": {},
   "outputs": [
    {
     "data": {
      "text/html": [
       "<div>\n",
       "<style scoped>\n",
       "    .dataframe tbody tr th:only-of-type {\n",
       "        vertical-align: middle;\n",
       "    }\n",
       "\n",
       "    .dataframe tbody tr th {\n",
       "        vertical-align: top;\n",
       "    }\n",
       "\n",
       "    .dataframe thead th {\n",
       "        text-align: right;\n",
       "    }\n",
       "</style>\n",
       "<table border=\"1\" class=\"dataframe\">\n",
       "  <thead>\n",
       "    <tr style=\"text-align: right;\">\n",
       "      <th></th>\n",
       "      <th>MASKED_ID_NUM</th>\n",
       "      <th>IDV_OCP_TYP_ID</th>\n",
       "      <th>NBR_DPND</th>\n",
       "      <th>GENERATION</th>\n",
       "      <th>GENDER</th>\n",
       "      <th>MARITAL_STATUS</th>\n",
       "      <th>DIGITAL_FLAG</th>\n",
       "      <th>RISK_APPETITE</th>\n",
       "      <th>TRAVELLER</th>\n",
       "      <th>GEODIVERSITY</th>\n",
       "      <th>REGION</th>\n",
       "      <th>HOSPITAL_PAYOR</th>\n",
       "      <th>ENVIRONMENTAL_AFF</th>\n",
       "      <th>HUMANITARIAN_AFF</th>\n",
       "      <th>RELIGIOUS_AFF</th>\n",
       "      <th>FILCHI_CLUB</th>\n",
       "      <th>OF_CLUB</th>\n",
       "      <th>RETIREES_CLUB</th>\n",
       "      <th>MILLENNIAL_CLUB</th>\n",
       "      <th>EXECUTIVES_CLUB</th>\n",
       "      <th>PROFESSIONAL_CLUB</th>\n",
       "      <th>NEW_MERCH_NAME</th>\n",
       "      <th>TXN_AMT_TOT</th>\n",
       "      <th>TXN_AMT_AVE</th>\n",
       "      <th>TXN_CNT</th>\n",
       "      <th>MOST_COMMON_INDUSTRY</th>\n",
       "    </tr>\n",
       "  </thead>\n",
       "  <tbody>\n",
       "    <tr>\n",
       "      <th>0</th>\n",
       "      <td>4016083633</td>\n",
       "      <td>STUDENT</td>\n",
       "      <td>3.0</td>\n",
       "      <td>BOOMERS</td>\n",
       "      <td>FEMALE</td>\n",
       "      <td>MARRIED</td>\n",
       "      <td>TRADITIONAL</td>\n",
       "      <td>AGGRESSIVE</td>\n",
       "      <td>HIGH</td>\n",
       "      <td>DIVERSE</td>\n",
       "      <td>NATIONAL CAPITAL REGION</td>\n",
       "      <td>NO_DATA</td>\n",
       "      <td>N</td>\n",
       "      <td>N</td>\n",
       "      <td>N</td>\n",
       "      <td>N</td>\n",
       "      <td>Y</td>\n",
       "      <td>N</td>\n",
       "      <td>Y</td>\n",
       "      <td>N</td>\n",
       "      <td>N</td>\n",
       "      <td>IN ROOM DINING</td>\n",
       "      <td>80099.0</td>\n",
       "      <td>14531.0</td>\n",
       "      <td>1.0</td>\n",
       "      <td>Record Stores</td>\n",
       "    </tr>\n",
       "    <tr>\n",
       "      <th>1</th>\n",
       "      <td>4016083633</td>\n",
       "      <td>SELFEMPLOYED</td>\n",
       "      <td>3.0</td>\n",
       "      <td>GEN_X</td>\n",
       "      <td>MALE</td>\n",
       "      <td>MARRIED</td>\n",
       "      <td>DIGITAL</td>\n",
       "      <td>AGGRESSIVE</td>\n",
       "      <td>NO_DATA</td>\n",
       "      <td>SINGLE</td>\n",
       "      <td>NATIONAL CAPITAL REGION</td>\n",
       "      <td>LOW</td>\n",
       "      <td>N</td>\n",
       "      <td>N</td>\n",
       "      <td>N</td>\n",
       "      <td>N</td>\n",
       "      <td>Y</td>\n",
       "      <td>Y</td>\n",
       "      <td>N</td>\n",
       "      <td>N</td>\n",
       "      <td>N</td>\n",
       "      <td>VANS 756</td>\n",
       "      <td>41075.0</td>\n",
       "      <td>2753.0</td>\n",
       "      <td>2.0</td>\n",
       "      <td>Drug Stores And Pharmacies</td>\n",
       "    </tr>\n",
       "    <tr>\n",
       "      <th>2</th>\n",
       "      <td>4016083633</td>\n",
       "      <td>SELFEMPLOYED</td>\n",
       "      <td>3.0</td>\n",
       "      <td>BOOMERS</td>\n",
       "      <td>FEMALE</td>\n",
       "      <td>MARRIED</td>\n",
       "      <td>DIGITAL</td>\n",
       "      <td>NO_DATA</td>\n",
       "      <td>NO_DATA</td>\n",
       "      <td>DIVERSE</td>\n",
       "      <td>NATIONAL CAPITAL REGION</td>\n",
       "      <td>MID</td>\n",
       "      <td>N</td>\n",
       "      <td>N</td>\n",
       "      <td>N</td>\n",
       "      <td>N</td>\n",
       "      <td>Y</td>\n",
       "      <td>Y</td>\n",
       "      <td>N</td>\n",
       "      <td>N</td>\n",
       "      <td>N</td>\n",
       "      <td>ZHIGUANKEJI</td>\n",
       "      <td>0.0</td>\n",
       "      <td>14504.0</td>\n",
       "      <td>2.0</td>\n",
       "      <td>Grocery Stores And Supermarkets</td>\n",
       "    </tr>\n",
       "    <tr>\n",
       "      <th>3</th>\n",
       "      <td>4016083633</td>\n",
       "      <td>EMPLOYED</td>\n",
       "      <td>3.0</td>\n",
       "      <td>BOOMERS</td>\n",
       "      <td>FEMALE</td>\n",
       "      <td>MARRIED</td>\n",
       "      <td>DIGITAL</td>\n",
       "      <td>NO_DATA</td>\n",
       "      <td>NO_DATA</td>\n",
       "      <td>MIGRATORY</td>\n",
       "      <td>NATIONAL CAPITAL REGION</td>\n",
       "      <td>NO_DATA</td>\n",
       "      <td>N</td>\n",
       "      <td>N</td>\n",
       "      <td>N</td>\n",
       "      <td>N</td>\n",
       "      <td>Y</td>\n",
       "      <td>Y</td>\n",
       "      <td>N</td>\n",
       "      <td>Y</td>\n",
       "      <td>N</td>\n",
       "      <td>ST. LUKE'S MEDICAL CENTER</td>\n",
       "      <td>0.0</td>\n",
       "      <td>5338.0</td>\n",
       "      <td>2.0</td>\n",
       "      <td>Education</td>\n",
       "    </tr>\n",
       "    <tr>\n",
       "      <th>4</th>\n",
       "      <td>4016083633</td>\n",
       "      <td>SELFEMPLOYED</td>\n",
       "      <td>3.0</td>\n",
       "      <td>GEN_X</td>\n",
       "      <td>FEMALE</td>\n",
       "      <td>MARRIED</td>\n",
       "      <td>DIGITAL</td>\n",
       "      <td>NO_DATA</td>\n",
       "      <td>HIGH</td>\n",
       "      <td>DIVERSE</td>\n",
       "      <td>NATIONAL CAPITAL REGION</td>\n",
       "      <td>NO_DATA</td>\n",
       "      <td>N</td>\n",
       "      <td>N</td>\n",
       "      <td>N</td>\n",
       "      <td>N</td>\n",
       "      <td>N</td>\n",
       "      <td>N</td>\n",
       "      <td>N</td>\n",
       "      <td>N</td>\n",
       "      <td>N</td>\n",
       "      <td>NETFLIX</td>\n",
       "      <td>12695.0</td>\n",
       "      <td>0.0</td>\n",
       "      <td>2.0</td>\n",
       "      <td>No Industry Label</td>\n",
       "    </tr>\n",
       "  </tbody>\n",
       "</table>\n",
       "</div>"
      ],
      "text/plain": [
       "   MASKED_ID_NUM IDV_OCP_TYP_ID  NBR_DPND GENERATION  GENDER MARITAL_STATUS  \\\n",
       "0     4016083633        STUDENT       3.0    BOOMERS  FEMALE        MARRIED   \n",
       "1     4016083633   SELFEMPLOYED       3.0      GEN_X    MALE        MARRIED   \n",
       "2     4016083633   SELFEMPLOYED       3.0    BOOMERS  FEMALE        MARRIED   \n",
       "3     4016083633       EMPLOYED       3.0    BOOMERS  FEMALE        MARRIED   \n",
       "4     4016083633   SELFEMPLOYED       3.0      GEN_X  FEMALE        MARRIED   \n",
       "\n",
       "  DIGITAL_FLAG RISK_APPETITE TRAVELLER GEODIVERSITY                   REGION  \\\n",
       "0  TRADITIONAL    AGGRESSIVE      HIGH      DIVERSE  NATIONAL CAPITAL REGION   \n",
       "1      DIGITAL    AGGRESSIVE   NO_DATA       SINGLE  NATIONAL CAPITAL REGION   \n",
       "2      DIGITAL       NO_DATA   NO_DATA      DIVERSE  NATIONAL CAPITAL REGION   \n",
       "3      DIGITAL       NO_DATA   NO_DATA    MIGRATORY  NATIONAL CAPITAL REGION   \n",
       "4      DIGITAL       NO_DATA      HIGH      DIVERSE  NATIONAL CAPITAL REGION   \n",
       "\n",
       "  HOSPITAL_PAYOR ENVIRONMENTAL_AFF HUMANITARIAN_AFF RELIGIOUS_AFF FILCHI_CLUB  \\\n",
       "0        NO_DATA                 N                N             N           N   \n",
       "1            LOW                 N                N             N           N   \n",
       "2            MID                 N                N             N           N   \n",
       "3        NO_DATA                 N                N             N           N   \n",
       "4        NO_DATA                 N                N             N           N   \n",
       "\n",
       "  OF_CLUB RETIREES_CLUB MILLENNIAL_CLUB EXECUTIVES_CLUB PROFESSIONAL_CLUB  \\\n",
       "0       Y             N               Y               N                 N   \n",
       "1       Y             Y               N               N                 N   \n",
       "2       Y             Y               N               N                 N   \n",
       "3       Y             Y               N               Y                 N   \n",
       "4       N             N               N               N                 N   \n",
       "\n",
       "              NEW_MERCH_NAME  TXN_AMT_TOT  TXN_AMT_AVE  TXN_CNT  \\\n",
       "0             IN ROOM DINING      80099.0      14531.0      1.0   \n",
       "1                   VANS 756      41075.0       2753.0      2.0   \n",
       "2                ZHIGUANKEJI          0.0      14504.0      2.0   \n",
       "3  ST. LUKE'S MEDICAL CENTER          0.0       5338.0      2.0   \n",
       "4                    NETFLIX      12695.0          0.0      2.0   \n",
       "\n",
       "              MOST_COMMON_INDUSTRY  \n",
       "0                    Record Stores  \n",
       "1       Drug Stores And Pharmacies  \n",
       "2  Grocery Stores And Supermarkets  \n",
       "3                        Education  \n",
       "4                No Industry Label  "
      ]
     },
     "execution_count": 3,
     "metadata": {},
     "output_type": "execute_result"
    }
   ],
   "source": [
    "# Load your data\n",
    "pd.set_option('display.max_columns', None)\n",
    "dna = pd.read_parquet('dna_pw_20250225.parquet')\n",
    "dna = dna.drop(columns=['CL_ID2', 'CL_ID4', 'HMO_MEMBER']) # Remove HMO_MEMBER due to insufficient data\n",
    "dna.head()"
   ]
  },
  {
   "cell_type": "code",
   "execution_count": 5,
   "id": "f26f59f9-c03a-43f8-9b85-4fd24916a975",
   "metadata": {},
   "outputs": [
    {
     "name": "stdout",
     "output_type": "stream",
     "text": [
      "['AGGRESSIVE' 'NO_DATA' 'MODERATELY_CONSERVATIVE' 'MODERATELY_AGGRESSIVE'\n",
      " 'CONSERVATIVE']\n",
      "['DIVERSE' 'SINGLE' 'MIGRATORY' 'NO_DATA']\n",
      "['TRADITIONAL' 'DIGITAL' 'NO_DATA']\n",
      "['NO_DATA' 'LOW' 'MID' 'HIGH']\n",
      "['N' 'Y']\n"
     ]
    }
   ],
   "source": [
    "print(dna['RISK_APPETITE'].unique())\n",
    "print(dna['GEODIVERSITY'].unique())\n",
    "print(dna['DIGITAL_FLAG'].unique())\n",
    "print(dna['HOSPITAL_PAYOR'].unique())\n",
    "print(dna['ENVIRONMENTAL_AFF'].unique())"
   ]
  },
  {
   "cell_type": "markdown",
   "id": "7207d748-9219-45b4-9d36-eea8f290500f",
   "metadata": {},
   "source": [
    "#### Data Pre-Processing"
   ]
  },
  {
   "cell_type": "code",
   "execution_count": 8,
   "id": "d98cfc8f-18e1-4470-a0be-7a0a0ed0f833",
   "metadata": {},
   "outputs": [],
   "source": [
    "risk_mapping = {\n",
    "    'NO_DATA': -1,  # Assign -1 to indicate missing data\n",
    "    'CONSERVATIVE': 1,\n",
    "    'MODERATELY_CONSERVATIVE': 2,\n",
    "    'MODERATELY_AGGRESSIVE': 3,\n",
    "    'AGGRESSIVE': 4\n",
    "}\n",
    "\n",
    "dna['RISK_APPETITE'] = dna['RISK_APPETITE'].map(risk_mapping)"
   ]
  },
  {
   "cell_type": "code",
   "execution_count": 10,
   "id": "1aad2e11-d50c-420a-9c9c-db27162ddbcc",
   "metadata": {},
   "outputs": [],
   "source": [
    "hospital_payor_mapping = {\n",
    "    'NO_DATA': -1,  # Assign -1 to indicate missing data\n",
    "    'LOW': 1,\n",
    "    'MID': 2,\n",
    "    'HIGH': 3\n",
    "}\n",
    "\n",
    "dna['HOSPITAL_PAYOR'] = dna['HOSPITAL_PAYOR'].map(hospital_payor_mapping)"
   ]
  },
  {
   "cell_type": "code",
   "execution_count": 12,
   "id": "35be6c5d-4f19-49e2-876d-80f79c96afcb",
   "metadata": {},
   "outputs": [],
   "source": [
    "geodiversity_mapping = {\n",
    "    'NO_DATA': -1,\n",
    "    'SINGLE': 1,\n",
    "    'MIGRATORY': 2,\n",
    "    'DIVERSE': 3\n",
    "}\n",
    "\n",
    "dna['GEODIVERSITY'] = dna['GEODIVERSITY'].map(geodiversity_mapping)"
   ]
  },
  {
   "cell_type": "code",
   "execution_count": 14,
   "id": "a39709a9-f101-4c9c-93fe-43043283d376",
   "metadata": {},
   "outputs": [],
   "source": [
    "digital_flag_mapping = {\n",
    "    'NO_DATA': -1,\n",
    "    'TRADITIONAL': 0,\n",
    "    'DIGITAL': 1\n",
    "}\n",
    "\n",
    "dna['DIGITAL_FLAG'] = dna['DIGITAL_FLAG'].map(digital_flag_mapping)"
   ]
  },
  {
   "cell_type": "code",
   "execution_count": 16,
   "id": "e9bd0991-84eb-42e6-9478-8cc77c7b2a8c",
   "metadata": {},
   "outputs": [],
   "source": [
    "binary_cols = ['ENVIRONMENTAL_AFF', 'HUMANITARIAN_AFF', 'RELIGIOUS_AFF', 'FILCHI_CLUB', 'OF_CLUB', \n",
    "               'RETIREES_CLUB', 'MILLENNIAL_CLUB', 'EXECUTIVES_CLUB', 'PROFESSIONAL_CLUB']\n",
    "\n",
    "for col in binary_cols:\n",
    "    dna[col] = dna[col].map({'Y': 1, 'N': 0})"
   ]
  },
  {
   "cell_type": "code",
   "execution_count": 18,
   "id": "b0e3a8b9-d61e-4bd0-9c35-dcc7ea689fad",
   "metadata": {},
   "outputs": [],
   "source": [
    "dna = pd.get_dummies(dna, columns=['GENERATION', 'GENDER'], drop_first=True)"
   ]
  },
  {
   "cell_type": "code",
   "execution_count": 20,
   "id": "3b6b223e-4ab3-47ba-8de4-2cec26b4af14",
   "metadata": {},
   "outputs": [
    {
     "name": "stdout",
     "output_type": "stream",
     "text": [
      "<class 'pandas.core.frame.DataFrame'>\n",
      "RangeIndex: 85142 entries, 0 to 85141\n",
      "Data columns (total 30 columns):\n",
      " #   Column                Non-Null Count  Dtype  \n",
      "---  ------                --------------  -----  \n",
      " 0   MASKED_ID_NUM         85142 non-null  int64  \n",
      " 1   IDV_OCP_TYP_ID        85142 non-null  object \n",
      " 2   NBR_DPND              85142 non-null  float64\n",
      " 3   MARITAL_STATUS        85142 non-null  object \n",
      " 4   DIGITAL_FLAG          85142 non-null  int64  \n",
      " 5   RISK_APPETITE         85142 non-null  int64  \n",
      " 6   TRAVELLER             85142 non-null  object \n",
      " 7   GEODIVERSITY          85142 non-null  int64  \n",
      " 8   REGION                85142 non-null  object \n",
      " 9   HOSPITAL_PAYOR        85142 non-null  int64  \n",
      " 10  ENVIRONMENTAL_AFF     85142 non-null  int64  \n",
      " 11  HUMANITARIAN_AFF      85142 non-null  int64  \n",
      " 12  RELIGIOUS_AFF         85142 non-null  int64  \n",
      " 13  FILCHI_CLUB           85142 non-null  int64  \n",
      " 14  OF_CLUB               85142 non-null  int64  \n",
      " 15  RETIREES_CLUB         85142 non-null  int64  \n",
      " 16  MILLENNIAL_CLUB       85142 non-null  int64  \n",
      " 17  EXECUTIVES_CLUB       85142 non-null  int64  \n",
      " 18  PROFESSIONAL_CLUB     85142 non-null  int64  \n",
      " 19  NEW_MERCH_NAME        85142 non-null  object \n",
      " 20  TXN_AMT_TOT           85142 non-null  float64\n",
      " 21  TXN_AMT_AVE           85142 non-null  float64\n",
      " 22  TXN_CNT               85142 non-null  float64\n",
      " 23  MOST_COMMON_INDUSTRY  85142 non-null  object \n",
      " 24  GENERATION_GEN_X      85142 non-null  bool   \n",
      " 25  GENERATION_GEN_Y      85142 non-null  bool   \n",
      " 26  GENERATION_GEN_Z      85142 non-null  bool   \n",
      " 27  GENERATION_NO_DATA    85142 non-null  bool   \n",
      " 28  GENDER_MALE           85142 non-null  bool   \n",
      " 29  GENDER_UNVERIFIED     85142 non-null  bool   \n",
      "dtypes: bool(6), float64(4), int64(14), object(6)\n",
      "memory usage: 16.1+ MB\n"
     ]
    }
   ],
   "source": [
    "dna.info()"
   ]
  },
  {
   "cell_type": "markdown",
   "id": "4c6f859a-c572-4dbc-9b64-7d1d6a5ee756",
   "metadata": {},
   "source": [
    "#### Anomaly Score"
   ]
  },
  {
   "cell_type": "code",
   "execution_count": 23,
   "id": "880a36e0-f544-44cd-a8d6-4185c86bed5c",
   "metadata": {},
   "outputs": [],
   "source": [
    "# Selecting relevant features (excluding categorical object-type features)\n",
    "numerical_cols = [\n",
    "    'NBR_DPND', 'DIGITAL_FLAG', 'RISK_APPETITE', 'GEODIVERSITY', 'HOSPITAL_PAYOR', \n",
    "    'ENVIRONMENTAL_AFF', 'HUMANITARIAN_AFF', 'RELIGIOUS_AFF', 'FILCHI_CLUB', 'OF_CLUB',\n",
    "    'RETIREES_CLUB', 'MILLENNIAL_CLUB', 'EXECUTIVES_CLUB', 'PROFESSIONAL_CLUB', \n",
    "    'TXN_AMT_TOT', 'TXN_AMT_AVE', 'TXN_CNT', 'GENERATION_GEN_X', 'GENERATION_GEN_Y', \n",
    "    'GENERATION_GEN_Z', 'GENERATION_NO_DATA', 'GENDER_MALE', 'GENDER_UNVERIFIED'\n",
    "]"
   ]
  },
  {
   "cell_type": "code",
   "execution_count": 25,
   "id": "b3a5b445-207c-4e5c-bfcb-bca75e2184f7",
   "metadata": {},
   "outputs": [],
   "source": [
    "# Standardizing numerical columns\n",
    "scaler = StandardScaler()\n",
    "dna_scaled = scaler.fit_transform(dna[numerical_cols])"
   ]
  },
  {
   "cell_type": "code",
   "execution_count": 27,
   "id": "1b1b73c2-3e3d-4ec9-a1ef-ceec5dc175f6",
   "metadata": {},
   "outputs": [
    {
     "name": "stdout",
     "output_type": "stream",
     "text": [
      "Number of anomalies detected: 4258\n"
     ]
    }
   ],
   "source": [
    "# Fit Isolation Forest model\n",
    "iso_forest = IsolationForest(n_estimators=100, contamination=0.05, random_state=42)\n",
    "dna['ANOMALY_SCORE'] = iso_forest.fit_predict(dna_scaled)\n",
    "\n",
    "# Convert Anomaly_Score: -1 (anomaly) → 1 (outlier), 1 (normal) → 0 (normal)\n",
    "dna['ANOMALY_SCORE'] = dna['ANOMALY_SCORE'].apply(lambda x: 1 if x == -1 else 0)\n",
    "\n",
    "# Display the proportion of anomalies detected\n",
    "print(\"Number of anomalies detected:\", dna['ANOMALY_SCORE'].sum())"
   ]
  },
  {
   "cell_type": "code",
   "execution_count": 29,
   "id": "792199e6-5ea0-46c7-b819-5d835c839e20",
   "metadata": {},
   "outputs": [
    {
     "name": "stdout",
     "output_type": "stream",
     "text": [
      "Silhouette Score: 0.82\n"
     ]
    }
   ],
   "source": [
    "X_features = dna[['TXN_AMT_TOT', 'TXN_CNT', 'RISK_APPETITE']]  # Use relevant numerical features\n",
    "silhouette = silhouette_score(X_features, dna['ANOMALY_SCORE'])\n",
    "print(f'Silhouette Score: {silhouette:.2f}')"
   ]
  },
  {
   "cell_type": "code",
   "execution_count": 31,
   "id": "ceb1306f-d379-4b12-9138-6cd231b7ae49",
   "metadata": {},
   "outputs": [
    {
     "name": "stdout",
     "output_type": "stream",
     "text": [
      "ANOMALY_SCORE\n",
      "0    80884\n",
      "1     4258\n",
      "Name: count, dtype: int64\n"
     ]
    }
   ],
   "source": [
    "print(dna['ANOMALY_SCORE'].value_counts())"
   ]
  },
  {
   "cell_type": "code",
   "execution_count": 33,
   "id": "908674c2-e4b9-4a42-894d-3d8367020d0e",
   "metadata": {},
   "outputs": [
    {
     "name": "stdout",
     "output_type": "stream",
     "text": [
      "     MASKED_ID_NUM  TXN_AMT_TOT  TXN_CNT  RISK_APPETITE\n",
      "14      6838321487     101834.0     12.0             -1\n",
      "17      6838321487          0.0      2.0             -1\n",
      "32      2153446108      37181.0      1.0              3\n",
      "39      2153446108     108417.0      2.0              4\n",
      "59       959165105          0.0     15.0             -1\n",
      "65      1813063147    3373003.0     13.0             -1\n",
      "67      1813063147          0.0      1.0             -1\n",
      "73      1813063147          0.0      2.0              4\n",
      "121     8961389524      48101.0      1.0              4\n",
      "177     8961389524      26914.0      2.0             -1\n"
     ]
    }
   ],
   "source": [
    "anomalies = dna[dna['ANOMALY_SCORE'] == 1]\n",
    "print(anomalies[['MASKED_ID_NUM', 'TXN_AMT_TOT', 'TXN_CNT', 'RISK_APPETITE']].head(10))"
   ]
  },
  {
   "cell_type": "code",
   "execution_count": 35,
   "id": "ad96bb7e-1e27-4b89-905f-5d83d0c36f76",
   "metadata": {},
   "outputs": [
    {
     "data": {
      "image/png": "[encoded data removed]",
      "text/plain": [
       "<Figure size 1000x500 with 1 Axes>"
      ]
     },
     "metadata": {},
     "output_type": "display_data"
    }
   ],
   "source": [
    "plt.figure(figsize=(10,5))\n",
    "sns.boxplot(x=dna['ANOMALY_SCORE'], y=dna['TXN_AMT_TOT'])\n",
    "plt.xticks([0, 1], ['Normal', 'Anomaly'])\n",
    "plt.title('Transaction Amounts for Normal vs. Anomalous Customers')\n",
    "plt.show()"
   ]
  },
  {
   "cell_type": "code",
   "execution_count": 37,
   "id": "babc2aac-41f9-47f4-9c75-329b5a89bdc8",
   "metadata": {},
   "outputs": [
    {
     "data": {
      "image/png": "[encoded data removed]",
      "text/plain": [
       "<Figure size 1000x600 with 1 Axes>"
      ]
     },
     "metadata": {},
     "output_type": "display_data"
    }
   ],
   "source": [
    "plt.figure(figsize=(10,6))\n",
    "sns.scatterplot(x=dna['TXN_CNT'], y=dna['TXN_AMT_TOT'], hue=dna['ANOMALY_SCORE'], palette={0: 'blue', 1: 'red'})\n",
    "plt.title('Transaction Count vs. Total Transaction Amount')\n",
    "plt.show()"
   ]
  },
  {
   "cell_type": "code",
   "execution_count": 39,
   "id": "4dd7b301-a6c1-4bb4-96bb-f996fcc36d24",
   "metadata": {},
   "outputs": [],
   "source": [
    "dna.to_csv(\"dna_with_anomaly_scores.csv\", index=False)"
   ]
  }
 ],
 "metadata": {
  "kernelspec": {
   "display_name": "Python 3 (ipykernel)",
   "language": "python",
   "name": "python3"
  },
  "language_info": {
   "codemirror_mode": {
    "name": "ipython",
    "version": 3
   },
   "file_extension": ".py",
   "mimetype": "text/x-python",
   "name": "python",
   "nbconvert_exporter": "python",
   "pygments_lexer": "ipython3",
   "version": "3.12.4"
  }
 },
 "nbformat": 4,
 "nbformat_minor": 5
}
